{
 "cells": [
  {
   "cell_type": "code",
   "execution_count": 1,
   "metadata": {},
   "outputs": [
    {
     "data": {
      "text/plain": [
       "'\\n<td>\\n    <div class=\"obc-tmpl-character__voice-item obc-tmpl-character__play-voice\">\\n        <div class=\"obc-tmpl-character__voice-btn\">\\n        </div> \\n        <span class=\"obc-tmpl-character__voice-content\"> \\t\\n            [text] \\t \\n        </span>\\n    </div>\\n </td>\\n'"
      ]
     },
     "execution_count": 1,
     "metadata": {},
     "output_type": "execute_result"
    }
   ],
   "source": [
    "\"\"\"\n",
    "<td>\n",
    "    <div class=\"obc-tmpl-character__voice-item obc-tmpl-character__play-voice\">\n",
    "        <div class=\"obc-tmpl-character__voice-btn\">\n",
    "        </div> \n",
    "        <span class=\"obc-tmpl-character__voice-content\"> \t\n",
    "            [text] \t \n",
    "        </span>\n",
    "    </div>\n",
    " </td>\n",
    "\"\"\""
   ]
  },
  {
   "cell_type": "code",
   "execution_count": 2,
   "metadata": {},
   "outputs": [],
   "source": [
    "URL = \"https://bbs.mihoyo.com/ys/obc/content/2403/detail\"\n",
    "marks=[\"C\",\"J\",\"K\",\"E\"]\n"
   ]
  },
  {
   "cell_type": "code",
   "execution_count": 3,
   "metadata": {},
   "outputs": [],
   "source": [
    "import time\n",
    "from seleniumwire import webdriver  # pip install selenium-wire\n",
    "from selenium.webdriver.firefox.options import Options\n",
    "from selenium.webdriver.firefox.service import Service\n",
    "from selenium.webdriver.common.by import By\n",
    "from selenium.webdriver.support.ui import WebDriverWait\n",
    "from selenium.webdriver.support import expected_conditions as EC\n",
    "from selenium.webdriver.common.keys import Keys\n",
    "from selenium.webdriver import ActionChains\n",
    "\n",
    "# Configuration constants\n",
    "GECKODRIVER_PATH = \"/home/co/firefox/geckodriver\"\n",
    "FIREFOX_BINARY = \"/home/co/firefox/firefox/firefox\"\n",
    "OUTPUT_DIR = \"/tmp/audio\"\n",
    "\n",
    "# Define a request interceptor to add \"Cache-Control: no-cache\" to every request.\n",
    "def interceptor(request):\n",
    "    request.headers['Cache-Control'] = 'no-cache'\n",
    "\n",
    "options = Options()\n",
    "options.binary_location = \"/home/co/firefox/firefox/firefox\"\n",
    "options.add_argument('--headless')\n",
    "options.add_argument(\"--width=1920\")\n",
    "options.add_argument(\"--height=1080\")\n",
    "\n",
    "# Initialize selenium-wire Firefox driver with our interceptor.\n",
    "driver = webdriver.Firefox(\n",
    "    service=Service(\"/home/co/firefox/geckodriver\"),\n",
    "    options=options,\n",
    ")\n",
    "driver.request_interceptor = interceptor"
   ]
  },
  {
   "cell_type": "code",
   "execution_count": 4,
   "metadata": {},
   "outputs": [
    {
     "name": "stdout",
     "output_type": "stream",
     "text": [
      "Captured mp3 for container 0: https://uploadstatic.mihoyo.com/ys-obc/2022/05/12/4521515/fd136fdb1babe778f0df785fa9767671_9197909036732754716.mp3\n",
      "Captured mp3 for container 1: https://uploadstatic.mihoyo.com/ys-obc/2022/05/12/4521515/a5240bed6abab0b303ad86f86f3caa14_4077258288707879948.mp3\n",
      "Captured mp3 for container 2: https://uploadstatic.mihoyo.com/ys-obc/2022/05/12/4521515/28011c4107d48f6f65b1496b5886b62e_4245583656643695543.mp3\n",
      "Captured mp3 for container 3: https://uploadstatic.mihoyo.com/ys-obc/2022/05/12/4521515/96590f3fff6974ce345796bae4710214_1932819275453117003.mp3\n",
      "Captured mp3 for container 4: https://uploadstatic.mihoyo.com/ys-obc/2022/05/12/4521515/a64d8254fb1fcea9a30fb8ac8f561b09_5552953947013866473.mp3\n",
      "Captured mp3 for container 5: https://uploadstatic.mihoyo.com/ys-obc/2022/05/12/4521515/a0bc1fced71cdd115e292fbb42734b5b_4969168125527825314.mp3\n",
      "Captured mp3 for container 6: https://uploadstatic.mihoyo.com/ys-obc/2022/05/12/4521515/1cde300dd3a13dd3656adae6d667e0c5_7372409914169367020.mp3\n",
      "Captured mp3 for container 7: https://uploadstatic.mihoyo.com/ys-obc/2022/05/12/4521515/ac96aa27923d8fd364faa0c6882d7882_9171940683133663472.mp3\n",
      "Captured mp3 for container 8: https://uploadstatic.mihoyo.com/ys-obc/2022/05/12/4521515/137566538e55050e127e27bc6065f750_8759624755411796802.mp3\n",
      "Captured mp3 for container 9: https://uploadstatic.mihoyo.com/ys-obc/2022/05/12/4521515/c5b9892e9d03dd9f09ec79239f09fa3b_1931396317384910458.mp3\n",
      "Captured mp3 for container 10: https://uploadstatic.mihoyo.com/ys-obc/2022/05/12/4521515/269c84c78719bbfccec983bb0b5e05c1_4131815006025288451.mp3\n",
      "Captured mp3 for container 11: https://uploadstatic.mihoyo.com/ys-obc/2022/05/12/4521515/553bfb9ff0dbd8b4cdfac74d30c388c9_806858321525297677.mp3\n",
      "Captured mp3 for container 12: https://uploadstatic.mihoyo.com/ys-obc/2022/05/12/4521515/d154c2ee701de5284192ce45b236b7d4_8951841340898564547.mp3\n",
      "Captured mp3 for container 13: https://uploadstatic.mihoyo.com/ys-obc/2022/05/12/4521515/354931f6f1ad9ee5ba053cf031febf8c_2667498866228387590.mp3\n",
      "Captured mp3 for container 14: https://uploadstatic.mihoyo.com/ys-obc/2022/05/12/4521515/6fa59198937e531ee51a68ff31b14d4f_4329975639659186455.mp3\n",
      "Captured mp3 for container 15: https://uploadstatic.mihoyo.com/ys-obc/2022/05/12/4521515/1157116d24125178d6ad51103b194fc1_8401024698975748172.mp3\n",
      "Captured mp3 for container 16: https://uploadstatic.mihoyo.com/ys-obc/2022/05/12/4521515/d017ef41ba6140ba1b73049f2d9cfbe8_8464805103471589786.mp3\n",
      "Captured mp3 for container 17: https://uploadstatic.mihoyo.com/ys-obc/2022/05/12/4521515/3ece268b9b743f52ff6c183391b448ee_1469766049844119123.mp3\n",
      "Captured mp3 for container 18: https://uploadstatic.mihoyo.com/ys-obc/2022/05/12/4521515/8f853632a66580674351cb041481f92a_5375739197523240058.mp3\n",
      "Captured mp3 for container 19: https://uploadstatic.mihoyo.com/ys-obc/2022/05/12/4521515/06b2eb6ae3a334fbd6c85d3a6eed1be5_8688991077263762080.mp3\n",
      "Captured mp3 for container 20: https://uploadstatic.mihoyo.com/ys-obc/2022/05/12/4521515/cdef6d5d0c8000f53ca28a7c4624c7be_3029066424927805150.mp3\n",
      "Captured mp3 for container 21: https://uploadstatic.mihoyo.com/ys-obc/2022/05/12/4521515/21d2120a17728b0c2d7a6a067d7cdf02_7921746377807300977.mp3\n",
      "Captured mp3 for container 22: https://uploadstatic.mihoyo.com/ys-obc/2022/05/12/4521515/976245dbd5579e2440d40cbdb249c606_1636766470016443621.mp3\n",
      "Captured mp3 for container 23: https://uploadstatic.mihoyo.com/ys-obc/2022/05/12/4521515/c0ffde937119ace02859a48aab2f10a4_254864118571956242.mp3\n",
      "Captured mp3 for container 24: https://uploadstatic.mihoyo.com/ys-obc/2022/05/12/4521515/e4878820b1b8b58eea64417393c7f052_3569418248706786998.mp3\n",
      "Captured mp3 for container 25: https://uploadstatic.mihoyo.com/ys-obc/2022/05/12/4521515/e9de968503a006a2ce9860747ffa5113_6357532584562764506.mp3\n",
      "Captured mp3 for container 26: https://uploadstatic.mihoyo.com/ys-obc/2022/05/12/4521515/b9d2028ffd2ef06e48e0e158d2fc8dbe_5351984443049744305.mp3\n",
      "Captured mp3 for container 27: https://uploadstatic.mihoyo.com/ys-obc/2022/05/12/4521515/7e10acfd9cc5491dab51c4c89cc02341_5564873788307070614.mp3\n",
      "Captured mp3 for container 28: https://uploadstatic.mihoyo.com/ys-obc/2022/05/12/4521515/93e46f70c2a2a569e2c02dab37a8a56d_2175733033239679223.mp3\n",
      "Captured mp3 for container 29: https://uploadstatic.mihoyo.com/ys-obc/2022/05/12/4521515/f422528743dd424e8d331845db6e1bd6_4435822516130782027.mp3\n",
      "Captured mp3 for container 30: https://uploadstatic.mihoyo.com/ys-obc/2022/05/12/4521515/5106919edb398f5b9fba91f91e7a50c7_2726479493554915765.mp3\n",
      "Captured mp3 for container 31: https://uploadstatic.mihoyo.com/ys-obc/2022/05/12/4521515/12beff965839bd579adad19204f72044_4678762937752659394.mp3\n",
      "Captured mp3 for container 32: https://uploadstatic.mihoyo.com/ys-obc/2022/05/12/4521515/f2e4a77ebacb943cad16211947932139_456917906783742383.mp3\n",
      "Captured mp3 for container 33: https://uploadstatic.mihoyo.com/ys-obc/2022/05/12/4521515/9aa64f16b75e57cfe2fea1384a94bde7_7617428641222483681.mp3\n",
      "Captured mp3 for container 34: https://uploadstatic.mihoyo.com/ys-obc/2022/05/12/4521515/d1837a44d78cd5d0cf1360dbf01e6c9f_2994660592869702779.mp3\n",
      "Captured mp3 for container 35: https://uploadstatic.mihoyo.com/ys-obc/2022/05/12/4521515/0c19828e2d15195ce0fd98170cf5120f_6297549158373961324.mp3\n",
      "Captured mp3 for container 36: https://uploadstatic.mihoyo.com/ys-obc/2022/10/31/16576950/a81e7bb71cc01a6a3eb063e752fbfb33_270638454493310242.mp3\n",
      "Captured mp3 for container 37: https://uploadstatic.mihoyo.com/ys-obc/2022/10/31/16576950/c0974f9c0720408e10abd86297963a1b_5420902572328051331.mp3\n",
      "Captured mp3 for container 38: https://uploadstatic.mihoyo.com/ys-obc/2022/10/31/16576950/6e435ec25ff7d72e165baa00b7d22757_4802498828700126958.mp3\n",
      "Captured mp3 for container 39: https://uploadstatic.mihoyo.com/ys-obc/2022/05/12/4521515/542602afa5834ac0c049cafda9194ffd_7731120897690727430.mp3\n",
      "Captured mp3 for container 40: https://uploadstatic.mihoyo.com/ys-obc/2022/05/12/4521515/cb9bf16cf771c0e03295a58a364c3e41_1262891994511387351.mp3\n",
      "Captured mp3 for container 41: https://uploadstatic.mihoyo.com/ys-obc/2022/05/12/4521515/966263fd1b0b516eb0118249d5ea1a72_5480023300783359247.mp3\n",
      "Captured mp3 for container 42: https://uploadstatic.mihoyo.com/ys-obc/2022/05/12/4521515/7048596ce99cafc24fb8fb5bc5a8a5fc_7491014043579466247.mp3\n",
      "Captured mp3 for container 43: https://uploadstatic.mihoyo.com/ys-obc/2022/05/12/4521515/40e86ef691b6d066a1ac6d8559f874c2_2521891868331620754.mp3\n",
      "Captured mp3 for container 44: https://uploadstatic.mihoyo.com/ys-obc/2022/05/12/4521515/30b617ffacf0005fbdaa212f5ddf7155_2571474861648329607.mp3\n",
      "Captured mp3 for container 45: https://uploadstatic.mihoyo.com/ys-obc/2022/05/12/4521515/170d9a136d796941528cecb4b47ee4b5_6679932959245317054.mp3\n",
      "Captured mp3 for container 46: https://uploadstatic.mihoyo.com/ys-obc/2022/05/12/4521515/19f925b63c36350ee30e7e41f95d5aeb_3668504470930537678.mp3\n",
      "Captured mp3 for container 47: https://uploadstatic.mihoyo.com/ys-obc/2022/05/12/4521515/1b9749f505537c3cd8b102b9dd620fa3_3031174150957950570.mp3\n",
      "Captured mp3 for container 48: https://uploadstatic.mihoyo.com/ys-obc/2022/05/12/4521515/453c65df8d70a3480748fb007c4b5d0c_771876305130116325.mp3\n",
      "Captured mp3 for container 49: https://uploadstatic.mihoyo.com/ys-obc/2022/05/12/4521515/ce2684dbdd1dd9450fb585c470698110_8852808938089847775.mp3\n",
      "Captured mp3 for container 50: https://uploadstatic.mihoyo.com/ys-obc/2022/05/12/4521515/e006147a759e4122870fb65839fb424d_1662666298218497114.mp3\n",
      "Captured mp3 for container 51: https://uploadstatic.mihoyo.com/ys-obc/2022/05/12/4521515/a62cec1d8ad946d9f80d8ab5799bff8a_6985185022536406738.mp3\n",
      "Captured mp3 for container 52: https://uploadstatic.mihoyo.com/ys-obc/2022/05/12/4521515/70693098229bd277dbb18e3b477c2dd5_7819286671255712839.mp3\n",
      "Captured mp3 for container 53: https://uploadstatic.mihoyo.com/ys-obc/2022/05/12/4521515/606db2013a085e98d569e02e03223078_3073450474344087961.mp3\n",
      "Captured mp3 for container 54: https://uploadstatic.mihoyo.com/ys-obc/2022/05/12/4521515/a46e496fa105b665a79abf143180e126_8037931048683135311.mp3\n",
      "Captured mp3 for container 55: https://uploadstatic.mihoyo.com/ys-obc/2022/05/12/4521515/543f111440dddc0940c15f7c241c2aaf_4657606682173171206.mp3\n",
      "Captured mp3 for container 56: https://uploadstatic.mihoyo.com/ys-obc/2022/05/12/4521515/6e603e17b54dda13cd0ada60d8728319_5329736050623410782.mp3\n",
      "Captured mp3 for container 57: https://uploadstatic.mihoyo.com/ys-obc/2022/05/12/4521515/58119a8616aaf3f4200cd21c9b034949_1900256771482268990.mp3\n",
      "Captured mp3 for container 58: https://uploadstatic.mihoyo.com/ys-obc/2022/10/31/16576950/51bd502a54209dfc8779c8185ef0bc0a_8021425162748606816.mp3\n",
      "Captured mp3 for container 59: https://uploadstatic.mihoyo.com/ys-obc/2022/10/31/16576950/d9c6c02edf0a3b5d86e015ee9c2ec6eb_1915446756101784587.mp3\n",
      "Captured mp3 for container 60: https://uploadstatic.mihoyo.com/ys-obc/2022/05/12/4521515/74a45d84a2d0b720557001edf0c2e1d5_611724848533491857.mp3\n",
      "Captured mp3 for container 61: https://uploadstatic.mihoyo.com/ys-obc/2022/05/12/4521515/bae2e9101bb04a9a115829bd9c12a936_2219381668627170059.mp3\n",
      "Captured mp3 for container 62: https://uploadstatic.mihoyo.com/ys-obc/2022/05/12/4521515/59e09843639841a2a20ad73856fa0c3c_269473342818363989.mp3\n",
      "Captured mp3 for container 63: https://uploadstatic.mihoyo.com/ys-obc/2022/05/12/4521515/2b5ccc7e8c9fc01ef5fa2ddb9ecd5d6d_8090601871942755477.mp3\n",
      "Captured mp3 for container 64: https://uploadstatic.mihoyo.com/ys-obc/2022/05/12/4521515/e5be95778fdfb7e8dfdb354df8444cc1_475251445766593682.mp3\n",
      "Captured mp3 for container 65: https://uploadstatic.mihoyo.com/ys-obc/2022/05/12/4521515/ed12d5810999647380260dd8f51992c7_7887259032712502698.mp3\n",
      "Captured mp3 for container 66: https://uploadstatic.mihoyo.com/ys-obc/2022/05/12/4521515/4ec9b87c88ee181cd83035e55b80d5ba_7962110277873465986.mp3\n",
      "Captured mp3 for container 67: https://uploadstatic.mihoyo.com/ys-obc/2022/05/12/4521515/11efa0255c9bdfd390bac3dac742eaea_5927955428561498972.mp3\n",
      "Captured mp3 for container 68: https://uploadstatic.mihoyo.com/ys-obc/2022/05/12/4521515/5127d617d6077d49715a4dc186ac5b14_1882839904408157584.mp3\n",
      "Captured mp3 for container 69: https://uploadstatic.mihoyo.com/ys-obc/2022/05/12/4521515/a080736d7822fcbf0c716a915873573a_1205753383337888854.mp3\n",
      "Captured mp3 for container 70: https://uploadstatic.mihoyo.com/ys-obc/2022/05/12/4521515/626f34a74cc0a31fbfd525ac8dd73948_9104758186987356819.mp3\n",
      "Captured mp3 for container 71: https://uploadstatic.mihoyo.com/ys-obc/2022/05/12/4521515/fb41724dd441956af080487f129cea5b_7110653942207692224.mp3\n",
      "Captured mp3 for container 72: https://uploadstatic.mihoyo.com/ys-obc/2022/05/12/4521515/e50ef9edf1afa0b648e21d3ab6d093e4_2807783972971395751.mp3\n",
      "Captured mp3 for container 73: https://uploadstatic.mihoyo.com/ys-obc/2022/05/12/4521515/e928644749098e042ac48c69e6ac9b6a_3555836864399493900.mp3\n",
      "Captured mp3 for container 74: https://uploadstatic.mihoyo.com/ys-obc/2022/05/12/4521515/b05ed4fb86be87edb5c81ca3936ec925_3327778805383860173.mp3\n",
      "Captured mp3 for container 75: https://uploadstatic.mihoyo.com/ys-obc/2022/05/12/4521515/459510187c1b39e3f1824e398f737abd_4876755025739724937.mp3\n",
      "Captured mp3 for container 76: https://uploadstatic.mihoyo.com/ys-obc/2022/05/12/4521515/3a8aebc14433a705204016498bdfb4fd_4864699366147495624.mp3\n",
      "Captured mp3 for container 77: https://uploadstatic.mihoyo.com/ys-obc/2022/05/12/4521515/852ea371b4feebc8cc2cc0b305094065_3550445007450824097.mp3\n",
      "Captured mp3 for container 78: https://uploadstatic.mihoyo.com/ys-obc/2022/05/12/4521515/09a15905a4bb8a0ce65e1be1617ba498_4911849751593927404.mp3\n",
      "Captured mp3 for container 79: https://uploadstatic.mihoyo.com/ys-obc/2022/05/12/4521515/b4218385b14de2712be8831140f641c2_6623096671202395958.mp3\n",
      "Captured mp3 for container 80: https://uploadstatic.mihoyo.com/ys-obc/2022/05/12/4521515/8a54bf072079fdd25a6ed5912b2ebef2_429307231577129514.mp3\n",
      "Captured mp3 for container 81: https://uploadstatic.mihoyo.com/ys-obc/2022/05/12/4521515/6ab642fee6c4f1f12da01c04e217aa6a_7226569482567122555.mp3\n",
      "Captured mp3 for container 82: https://uploadstatic.mihoyo.com/ys-obc/2022/05/12/4521515/55eee5a1718afe6ce287fad5bd2b8d77_2179954196412216024.mp3\n",
      "Captured mp3 for container 83: https://uploadstatic.mihoyo.com/ys-obc/2022/05/12/4521515/98c06781637322b4690ef48bffe9b9e8_8940942733681027466.mp3\n",
      "Captured mp3 for container 84: https://uploadstatic.mihoyo.com/ys-obc/2022/05/12/4521515/66bffdd4ec111977b51f83d9c12ff910_9118778294801673446.mp3\n",
      "Captured mp3 for container 85: https://uploadstatic.mihoyo.com/ys-obc/2022/05/12/4521515/abc0de3a5aaaa0529857b1e449bb2ba6_8716674576285329146.mp3\n",
      "Captured mp3 for container 86: https://uploadstatic.mihoyo.com/ys-obc/2022/05/12/4521515/a333edf7d38476ed87cc161d2e946315_4022283653844072939.mp3\n",
      "Captured mp3 for container 87: https://uploadstatic.mihoyo.com/ys-obc/2022/05/12/4521515/284ce24be57e6b190fadaa9769eedeb8_2690538063686854113.mp3\n",
      "Captured mp3 for container 88: https://uploadstatic.mihoyo.com/ys-obc/2022/05/12/4521515/2a96ced87f8657803ab0b020f2656199_4622701312715259367.mp3\n",
      "Captured mp3 for container 89: https://uploadstatic.mihoyo.com/ys-obc/2022/05/12/4521515/ddaad2a85b98e8497f62416941bb99ef_4048188756808027819.mp3\n",
      "Captured mp3 for container 90: https://uploadstatic.mihoyo.com/ys-obc/2022/05/12/4521515/0407049039a5118393c9bf5f35134f07_1865604714048690880.mp3\n",
      "Captured mp3 for container 91: https://uploadstatic.mihoyo.com/ys-obc/2022/05/12/4521515/4254499d19a6a659bd20efe395205304_245967978038910599.mp3\n",
      "Captured mp3 for container 92: https://uploadstatic.mihoyo.com/ys-obc/2022/05/12/4521515/ee3a525bcf4cbe8770f7c07539bbd546_7627263388079732356.mp3\n",
      "Captured mp3 for container 93: https://uploadstatic.mihoyo.com/ys-obc/2022/05/12/4521515/2cb2a7e7b48fe785138e301813b0b54d_3077375761687745557.mp3\n",
      "Captured mp3 for container 94: https://uploadstatic.mihoyo.com/ys-obc/2022/05/12/4521515/b707fbaccb2dbb5799c09bca813ab240_2139751598979731707.mp3\n",
      "Captured mp3 for container 95: https://uploadstatic.mihoyo.com/ys-obc/2022/05/12/4521515/5f8d0e3804c8997db1246bcf9471c1ff_8266319054954318768.mp3\n",
      "Captured mp3 for container 96: https://uploadstatic.mihoyo.com/ys-obc/2022/05/12/4521515/aa512136cf435f3baf39f0ac694fa13a_3356334597575874937.mp3\n",
      "Captured mp3 for container 97: https://uploadstatic.mihoyo.com/ys-obc/2022/05/12/4521515/274db073e8aeaf6bee73bd51a2796177_4989445613171809384.mp3\n",
      "Captured mp3 for container 98: https://uploadstatic.mihoyo.com/ys-obc/2022/05/12/4521515/830d389aef8bec3c2919f87b145d86af_1734260557042097317.mp3\n",
      "Captured mp3 for container 99: https://uploadstatic.mihoyo.com/ys-obc/2022/05/12/4521515/6b1c95e8d51dc26dd20eb630ccee5508_331533350319460211.mp3\n",
      "Captured mp3 for container 100: https://uploadstatic.mihoyo.com/ys-obc/2022/05/12/4521515/e42a76fc6c49fc778c2730d75d1a5c92_988814796530334920.mp3\n",
      "Captured mp3 for container 101: https://uploadstatic.mihoyo.com/ys-obc/2022/05/12/4521515/1aaf9bbc0e15d71ce00201f1e874b188_8918411005396949882.mp3\n",
      "Captured mp3 for container 102: https://uploadstatic.mihoyo.com/ys-obc/2022/05/12/4521515/a0d8c7a71f6eeb4c72eaee0dab261f31_304619605596987233.mp3\n",
      "Captured mp3 for container 103: https://uploadstatic.mihoyo.com/ys-obc/2022/05/12/4521515/339d81bbf5db55d20eca7179729d1f65_6216998838290420792.mp3\n",
      "Captured mp3 for container 104: https://uploadstatic.mihoyo.com/ys-obc/2022/10/31/16576950/94c06577f9617fc68d46d214c3fc0065_7364770237862261234.mp3\n",
      "Captured mp3 for container 105: https://uploadstatic.mihoyo.com/ys-obc/2022/10/31/16576950/956ef6f09b921dc06fcacb2c1bb99571_5617883428291506668.mp3\n",
      "Captured mp3 for container 106: https://uploadstatic.mihoyo.com/ys-obc/2022/10/31/16576950/42bb74d5426929c0579958ca107da077_1751399943083229443.mp3\n",
      "Captured mp3 for container 107: https://uploadstatic.mihoyo.com/ys-obc/2022/05/12/4521515/1ae63a9465e0ea9310745cba9adade87_737861371135842307.mp3\n",
      "Captured mp3 for container 108: https://uploadstatic.mihoyo.com/ys-obc/2022/05/12/4521515/7dd5d6d6dd6ec9578ffda742836655ff_2794227860569362156.mp3\n",
      "Captured mp3 for container 109: https://uploadstatic.mihoyo.com/ys-obc/2022/05/12/4521515/a7a5b4a51635d2da9eb8936b7ae5de56_1181237180446447777.mp3\n",
      "Captured mp3 for container 110: https://uploadstatic.mihoyo.com/ys-obc/2022/05/12/4521515/68932f11b29716aad3a3b69489405af7_1422281749977789240.mp3\n",
      "Captured mp3 for container 111: https://uploadstatic.mihoyo.com/ys-obc/2022/05/12/4521515/5d0550820bcd4e261998dec6ce3b2b45_5079975009269258031.mp3\n",
      "Captured mp3 for container 112: https://uploadstatic.mihoyo.com/ys-obc/2022/05/12/4521515/20d0e5f41c80ebc94976de3072fa1b01_648148768076512991.mp3\n",
      "Captured mp3 for container 113: https://uploadstatic.mihoyo.com/ys-obc/2022/05/12/4521515/cae6cf5f9cf41bc49ee2f4a85da5d999_7393136722972765771.mp3\n",
      "Captured mp3 for container 114: https://uploadstatic.mihoyo.com/ys-obc/2022/05/12/4521515/1ac05848793b139f1bc31d24853159ad_3787503672781878674.mp3\n",
      "Captured mp3 for container 115: https://uploadstatic.mihoyo.com/ys-obc/2022/05/12/4521515/c03ab438a21dc7d2c195a9a50f5442bd_2204754470672796488.mp3\n",
      "Captured mp3 for container 116: https://uploadstatic.mihoyo.com/ys-obc/2022/05/12/4521515/01f50482bc3a8f6ee62733cf9f9c19db_5861232912476716738.mp3\n",
      "Captured mp3 for container 117: https://uploadstatic.mihoyo.com/ys-obc/2022/05/12/4521515/0b06ed079fb675af81760f86bcf4f5e0_4128365484376484616.mp3\n",
      "Captured mp3 for container 118: https://uploadstatic.mihoyo.com/ys-obc/2022/05/12/4521515/e4c8fbea37f139e2dba4d8ecf977d497_4095286813335096785.mp3\n",
      "Captured mp3 for container 119: https://uploadstatic.mihoyo.com/ys-obc/2022/05/12/4521515/6e084818b2c3ed19b143c5205142e05e_268689937643353719.mp3\n",
      "Captured mp3 for container 120: https://uploadstatic.mihoyo.com/ys-obc/2022/05/12/4521515/ca1bb27f953bd8a064a2711d48e9df3f_4865796382794560681.mp3\n",
      "Captured mp3 for container 121: https://uploadstatic.mihoyo.com/ys-obc/2022/05/12/4521515/25a65c3db2db187607eaa763f38e039c_9066962581123530833.mp3\n",
      "Captured mp3 for container 122: https://uploadstatic.mihoyo.com/ys-obc/2022/05/12/4521515/49ccdc9291bf89ec1a0e681096d068c7_5345265317519310671.mp3\n",
      "Captured mp3 for container 123: https://uploadstatic.mihoyo.com/ys-obc/2022/05/12/4521515/317d417c435880773f8b7ce807674c2d_8084857799042630413.mp3\n",
      "Captured mp3 for container 124: https://uploadstatic.mihoyo.com/ys-obc/2022/05/12/4521515/26034ea0d66b6d7db216caafe8f781af_6097109952493332697.mp3\n",
      "Captured mp3 for container 125: https://uploadstatic.mihoyo.com/ys-obc/2022/05/12/4521515/9e41d8a2371292db98cb9078d8089a1a_1533096977297288247.mp3\n",
      "Captured mp3 for container 126: https://uploadstatic.mihoyo.com/ys-obc/2022/10/31/16576950/ebb301233cb6c984955da71360b51ee0_6212611025190633320.mp3\n",
      "Captured mp3 for container 127: https://uploadstatic.mihoyo.com/ys-obc/2022/10/31/16576950/b6d5affbd5fd64a8d6f0555878b612a4_2526569705884757506.mp3\n",
      "Captured mp3 for container 128: https://uploadstatic.mihoyo.com/ys-obc/2022/05/12/4521515/87b6fb1a60827848dbc6775d61fe80b4_4973365376219012868.mp3\n",
      "Captured mp3 for container 129: https://uploadstatic.mihoyo.com/ys-obc/2022/05/12/4521515/b1b9874d5da35bd5b7ca96108042686e_4983572693532269048.mp3\n",
      "Captured mp3 for container 130: https://uploadstatic.mihoyo.com/ys-obc/2022/05/12/4521515/30f19dedee86b96ae71ce602941d4ffe_4042472704313956230.mp3\n",
      "Captured mp3 for container 131: https://uploadstatic.mihoyo.com/ys-obc/2022/05/12/4521515/085d9e85014c9888c6bddee9005cb0d2_4473759063366670637.mp3\n",
      "Captured mp3 for container 132: https://uploadstatic.mihoyo.com/ys-obc/2022/05/12/4521515/a35cc680a4a3c421059b8e06060c5bfd_3848349729457121021.mp3\n",
      "Captured mp3 for container 133: https://uploadstatic.mihoyo.com/ys-obc/2022/05/12/4521515/3a4e281f1a57422d8a5827627dc6c76d_1127474202698083084.mp3\n",
      "Captured mp3 for container 134: https://uploadstatic.mihoyo.com/ys-obc/2022/05/12/4521515/921db0cb5ca57c933798c6d514fc6dcb_8986521186976322379.mp3\n",
      "Captured mp3 for container 135: https://uploadstatic.mihoyo.com/ys-obc/2022/05/12/4521515/72d0d349ffeee957a06d41430abf203e_4845632436581834407.mp3\n",
      "Captured mp3 for container 136: https://uploadstatic.mihoyo.com/ys-obc/2022/05/12/4521515/716b4cd4e99a49b2b310e26cb904ed34_7732210176867897846.mp3\n",
      "Captured mp3 for container 137: https://uploadstatic.mihoyo.com/ys-obc/2022/05/12/4521515/2308acaf38f7a8090cabd9f337a95b64_2023036161042109141.mp3\n",
      "Captured mp3 for container 138: https://uploadstatic.mihoyo.com/ys-obc/2022/05/12/4521515/5922119187ae819309d8725c88120b33_6737903468138641437.mp3\n",
      "Captured mp3 for container 139: https://uploadstatic.mihoyo.com/ys-obc/2022/05/12/4521515/4e97bf94b596820a74ab20f4f57e7739_6639150283664593686.mp3\n",
      "Captured mp3 for container 140: https://uploadstatic.mihoyo.com/ys-obc/2022/05/12/4521515/e7ca3f89b69c4b8ed3dd42d4b7be75c3_154445808158732378.mp3\n",
      "Captured mp3 for container 141: https://uploadstatic.mihoyo.com/ys-obc/2022/05/12/4521515/0cb7ee59da941c4c11ea06acf9551351_7970509637797264864.mp3\n",
      "Captured mp3 for container 142: https://uploadstatic.mihoyo.com/ys-obc/2022/05/12/4521515/78f9dbe8d0cb8d42b4bd70ab16c4b63f_4079365702275216385.mp3\n",
      "Captured mp3 for container 143: https://uploadstatic.mihoyo.com/ys-obc/2022/05/12/4521515/1a3a210545ca1981a57f7fe9b12f59ea_7746846335099317336.mp3\n",
      "Captured mp3 for container 144: https://uploadstatic.mihoyo.com/ys-obc/2022/05/12/4521515/be2bb37707e09b548004fb24bc7e8a54_8858257923286919735.mp3\n",
      "Captured mp3 for container 145: https://uploadstatic.mihoyo.com/ys-obc/2022/05/12/4521515/98977aabf5877c9a361cfe9fea0af9e6_7304850197886549093.mp3\n",
      "Captured mp3 for container 146: https://uploadstatic.mihoyo.com/ys-obc/2022/05/12/4521515/b9e120beb738092e1548850c551b8640_4331778706859389306.mp3\n",
      "Captured mp3 for container 147: https://uploadstatic.mihoyo.com/ys-obc/2022/05/12/4521515/2071b8621a585e981e1e8902cbc9d5b0_2610715441209395206.mp3\n",
      "Captured mp3 for container 148: https://uploadstatic.mihoyo.com/ys-obc/2022/05/12/4521515/f9e0e5a7285876f84a8d459fa0dc20b5_1387561060976040917.mp3\n",
      "Captured mp3 for container 149: https://uploadstatic.mihoyo.com/ys-obc/2022/05/12/4521515/609d925157031e66adf77ec48f064395_561728809681729.mp3\n",
      "Captured mp3 for container 150: https://uploadstatic.mihoyo.com/ys-obc/2022/05/12/4521515/7b0f75b76a6ba93575492ca1f7d68496_7731718762732050457.mp3\n",
      "Captured mp3 for container 151: https://uploadstatic.mihoyo.com/ys-obc/2022/05/12/4521515/4714448f0939034736bfaaa0fc32854a_8416121754039879086.mp3\n",
      "Captured mp3 for container 152: https://uploadstatic.mihoyo.com/ys-obc/2022/05/12/4521515/50a579f3474b08c44d942a7919acd6d8_8979134678691545332.mp3\n",
      "Captured mp3 for container 153: https://uploadstatic.mihoyo.com/ys-obc/2022/05/12/4521515/c2ef1cb8f3d80c0d8307651ec4842174_1982496306966796406.mp3\n",
      "Captured mp3 for container 154: https://uploadstatic.mihoyo.com/ys-obc/2022/05/12/4521515/b41b43084903b5bd5e7d890d91a9eeea_6679068908277069054.mp3\n",
      "Captured mp3 for container 155: https://uploadstatic.mihoyo.com/ys-obc/2022/05/12/4521515/c4a10d95f6647d3309395549e2465e2f_2550054855044313926.mp3\n",
      "Captured mp3 for container 156: https://uploadstatic.mihoyo.com/ys-obc/2022/05/12/4521515/9858b2992768989ecb59e167477b79a3_522006716867450722.mp3\n",
      "Captured mp3 for container 157: https://uploadstatic.mihoyo.com/ys-obc/2022/05/12/4521515/0a929a4544a4d054318b7a9fa15c7878_9008746335095287190.mp3\n",
      "Captured mp3 for container 158: https://uploadstatic.mihoyo.com/ys-obc/2022/05/12/4521515/d3c60f5a6fdaeb6076f6b7524d4c9044_2579694913092052459.mp3\n",
      "Captured mp3 for container 159: https://uploadstatic.mihoyo.com/ys-obc/2022/05/12/4521515/2ad4eb2ebac17d7e434a67d40d0ae5ff_8202881031378456939.mp3\n",
      "Captured mp3 for container 160: https://uploadstatic.mihoyo.com/ys-obc/2022/05/12/4521515/a4d8767012d01b8cd97342f609ea20a0_167212785374102632.mp3\n",
      "Captured mp3 for container 161: https://uploadstatic.mihoyo.com/ys-obc/2022/05/12/4521515/d4f1920eca65e4b2fb2ffb03317323c9_8199565120287914722.mp3\n",
      "Captured mp3 for container 162: https://uploadstatic.mihoyo.com/ys-obc/2022/05/12/4521515/dc4af39a88f76b22d2f30c2195287464_6329151321857973463.mp3\n",
      "Captured mp3 for container 163: https://uploadstatic.mihoyo.com/ys-obc/2022/05/12/4521515/98bc14c914b6e5fd1b39f70ef5dfe8aa_6643930692596176982.mp3\n",
      "Captured mp3 for container 164: https://uploadstatic.mihoyo.com/ys-obc/2022/05/12/4521515/7d97d4f50401c7f9a2049f568d42b0cc_5231626564330518847.mp3\n",
      "Captured mp3 for container 165: https://uploadstatic.mihoyo.com/ys-obc/2022/05/12/4521515/da08ee99a2a5e9d23c0cb028dcec77ff_6925436136188625270.mp3\n",
      "Captured mp3 for container 166: https://uploadstatic.mihoyo.com/ys-obc/2022/05/12/4521515/e30936e0ac14d1b0236af351d47e0fc4_8884221232017368190.mp3\n",
      "Captured mp3 for container 167: https://uploadstatic.mihoyo.com/ys-obc/2022/05/12/4521515/38492a6218444d78bcc3c295904ef56a_4057904292230857524.mp3\n",
      "Captured mp3 for container 168: https://uploadstatic.mihoyo.com/ys-obc/2022/05/12/4521515/90b01c31adc89a490792ca1ea76b94a0_6238443685020628397.mp3\n",
      "Captured mp3 for container 169: https://uploadstatic.mihoyo.com/ys-obc/2022/05/12/4521515/995933466ff97929af5dd6392d25da99_2233849794403128271.mp3\n",
      "Captured mp3 for container 170: https://uploadstatic.mihoyo.com/ys-obc/2022/05/12/4521515/c8ebcdfa24ac1bc781c0d415c7a6597a_7880926154127216849.mp3\n",
      "Captured mp3 for container 171: https://uploadstatic.mihoyo.com/ys-obc/2022/05/12/4521515/77eb68f9a302e862ff2d2604f1af968c_576518025593362147.mp3\n",
      "Captured mp3 for container 172: https://uploadstatic.mihoyo.com/ys-obc/2022/10/31/16576950/b34d0ba5444a3e72fd915cf3c3e4dfc2_5363558562642222063.mp3\n",
      "Captured mp3 for container 173: https://uploadstatic.mihoyo.com/ys-obc/2022/10/31/16576950/a00cae2b7519de6ca399b0bf819f7df6_3660795614413962773.mp3\n",
      "Captured mp3 for container 174: https://uploadstatic.mihoyo.com/ys-obc/2022/10/31/16576950/786f92612af39854a108fbc0881d6c75_2154803438652379754.mp3\n",
      "Captured mp3 for container 175: https://uploadstatic.mihoyo.com/ys-obc/2022/05/12/4521515/dbf375f0cd93ddea3d383019cf146aaa_4721266246271945639.mp3\n",
      "Captured mp3 for container 176: https://uploadstatic.mihoyo.com/ys-obc/2022/05/12/4521515/f42d3c3151447e6117b8938078f85969_6906915266103811535.mp3\n",
      "Captured mp3 for container 177: https://uploadstatic.mihoyo.com/ys-obc/2022/05/12/4521515/bcd0fc5e02195913eedf5f3a21fc4e9c_2983068574199129754.mp3\n",
      "Captured mp3 for container 178: https://uploadstatic.mihoyo.com/ys-obc/2022/05/12/4521515/ed59348608cc170128a57b03ea8bc91f_4437230639742628036.mp3\n",
      "Captured mp3 for container 179: https://uploadstatic.mihoyo.com/ys-obc/2022/05/12/4521515/50fe89db28e0dffa093748f0c96e815c_3995971841657425769.mp3\n",
      "Captured mp3 for container 180: https://uploadstatic.mihoyo.com/ys-obc/2022/05/12/4521515/50653475e34f59081cc6a54e70ff9515_6106167589964859532.mp3\n",
      "Captured mp3 for container 181: https://uploadstatic.mihoyo.com/ys-obc/2022/05/12/4521515/b3da2faddcbeb27372467c69e1592218_446733214510657866.mp3\n",
      "Captured mp3 for container 182: https://uploadstatic.mihoyo.com/ys-obc/2022/05/12/4521515/45cc040a7e0f1b69412c5b646d4e63c1_1106038817560633711.mp3\n",
      "Captured mp3 for container 183: https://uploadstatic.mihoyo.com/ys-obc/2022/05/12/4521515/131086c3e96b944684b8a56b05b15cd0_5956673687959510534.mp3\n",
      "Captured mp3 for container 184: https://uploadstatic.mihoyo.com/ys-obc/2022/05/12/4521515/bc80c50c7062fe5fe385c61fefa28738_2981049680998792129.mp3\n",
      "Captured mp3 for container 185: https://uploadstatic.mihoyo.com/ys-obc/2022/05/12/4521515/0884bb360da4103a041449d80841103d_8114850807001273914.mp3\n",
      "Captured mp3 for container 186: https://uploadstatic.mihoyo.com/ys-obc/2022/05/12/4521515/f8330ae2594917dad958b3838ee252dc_2297727704075115551.mp3\n",
      "Captured mp3 for container 187: https://uploadstatic.mihoyo.com/ys-obc/2022/05/12/4521515/e940ff34b924a858b2bc831e891509c0_7245881470216524909.mp3\n",
      "Captured mp3 for container 188: https://uploadstatic.mihoyo.com/ys-obc/2022/05/12/4521515/e2edd576e1ec393f4afced82c73a196c_8579678831021683188.mp3\n",
      "Captured mp3 for container 189: https://uploadstatic.mihoyo.com/ys-obc/2022/05/12/4521515/b17991e6503051b9c0d9b1034880bb92_7906855032133085075.mp3\n",
      "Captured mp3 for container 190: https://uploadstatic.mihoyo.com/ys-obc/2022/05/12/4521515/9ace4b0a051a53bcdae41aa9612549a9_2449351455241102402.mp3\n",
      "Captured mp3 for container 191: https://uploadstatic.mihoyo.com/ys-obc/2022/05/12/4521515/8ecc6c0e2c602d26ef81792b01423522_5307464902865727890.mp3\n",
      "Captured mp3 for container 192: https://uploadstatic.mihoyo.com/ys-obc/2022/05/12/4521515/b0468fc7cac7d02d4d6c4ce2c3d00b1e_1644050014979198866.mp3\n",
      "Captured mp3 for container 193: https://uploadstatic.mihoyo.com/ys-obc/2022/05/12/4521515/c0ab001fe4bf6937f3e2a0838e03ef01_1299551838341577185.mp3\n",
      "Captured mp3 for container 194: https://uploadstatic.mihoyo.com/ys-obc/2022/10/31/16576950/de939b0e59d33e9dbc31db6ec1bac4ec_5024987055892774096.mp3\n",
      "Captured mp3 for container 195: https://uploadstatic.mihoyo.com/ys-obc/2022/10/31/16576950/49a232dc5a207147a9da597c8761df6c_5188924794794054804.mp3\n",
      "Captured mp3 for container 196: https://uploadstatic.mihoyo.com/ys-obc/2022/05/12/4521515/5c4e0b371e8769f710c04a35004d772e_1960842108036124001.mp3\n",
      "Captured mp3 for container 197: https://uploadstatic.mihoyo.com/ys-obc/2022/05/12/4521515/a02ec1f193b09609b2b72037a2b3c058_2086944036997477794.mp3\n",
      "Captured mp3 for container 198: https://uploadstatic.mihoyo.com/ys-obc/2022/05/12/4521515/eaf4ad866187eba1783e9f3fb1a5de01_3078100180788886782.mp3\n",
      "Captured mp3 for container 199: https://uploadstatic.mihoyo.com/ys-obc/2022/05/12/4521515/6f41bb888387643d9dd87fb5a991ac1d_441957261246519498.mp3\n",
      "Captured mp3 for container 200: https://uploadstatic.mihoyo.com/ys-obc/2022/05/12/4521515/2804d8489a2a1a274a30dfbb0d4f37ef_6349410932191252820.mp3\n",
      "Captured mp3 for container 201: https://uploadstatic.mihoyo.com/ys-obc/2022/05/12/4521515/7c7f6222023323ed8c526b55da57b051_6329882636038070552.mp3\n",
      "Captured mp3 for container 202: https://uploadstatic.mihoyo.com/ys-obc/2022/05/12/4521515/988d318e36c76cb238a3355e70ba0426_5288955974135276348.mp3\n",
      "Captured mp3 for container 203: https://uploadstatic.mihoyo.com/ys-obc/2022/05/12/4521515/d64b1915bd6f7245a25a28cced5b9329_1263769459857212746.mp3\n",
      "Captured mp3 for container 204: https://uploadstatic.mihoyo.com/ys-obc/2022/05/12/4521515/1f05b926b5a23d1fcb99454c2999a4d4_7472676422875404810.mp3\n",
      "Captured mp3 for container 205: https://uploadstatic.mihoyo.com/ys-obc/2022/05/12/4521515/39ba54fa7ab088534fee2673ef2fea34_5629986336368362909.mp3\n",
      "Captured mp3 for container 206: https://uploadstatic.mihoyo.com/ys-obc/2022/05/12/4521515/20e08463bb398475f0f966e48c496935_6035514734839968968.mp3\n",
      "Captured mp3 for container 207: https://uploadstatic.mihoyo.com/ys-obc/2022/05/12/4521515/e4feb38fe8359c2ab444b1ced65ce84d_5523756701346202710.mp3\n",
      "Captured mp3 for container 208: https://uploadstatic.mihoyo.com/ys-obc/2022/05/12/4521515/db90d1c0135f2b71756623461a94fc87_3935533423948082214.mp3\n",
      "Captured mp3 for container 209: https://uploadstatic.mihoyo.com/ys-obc/2022/05/12/4521515/824118a7ca02e507ace0dc8d2330c74c_144195475203956845.mp3\n",
      "Captured mp3 for container 210: https://uploadstatic.mihoyo.com/ys-obc/2022/05/12/4521515/761fa608590a9e966e977bfea4ca5d1a_7463350834726555302.mp3\n",
      "Captured mp3 for container 211: https://uploadstatic.mihoyo.com/ys-obc/2022/05/12/4521515/db596701d0e5400181033c22ae810791_2019526583218849648.mp3\n",
      "Captured mp3 for container 212: https://uploadstatic.mihoyo.com/ys-obc/2022/05/12/4521515/5825258b4900b9762582d89d3cc30e4c_1536082255107233459.mp3\n",
      "Captured mp3 for container 213: https://uploadstatic.mihoyo.com/ys-obc/2022/05/12/4521515/7269d574deed5673f5c6a2f4c632b56d_2443586273584366896.mp3\n",
      "Captured mp3 for container 214: https://uploadstatic.mihoyo.com/ys-obc/2022/05/12/4521515/508d5a0858b21070300bc42081370989_9105907346238983033.mp3\n",
      "Captured mp3 for container 215: https://uploadstatic.mihoyo.com/ys-obc/2022/05/12/4521515/4f7f2850b48428580a2f28fd592ba325_7399025789685317346.mp3\n",
      "Captured mp3 for container 216: https://uploadstatic.mihoyo.com/ys-obc/2022/05/12/4521515/cf121b8d34d55fe31ecacc2fcbd3d6c6_3915645931323080309.mp3\n",
      "Captured mp3 for container 217: https://uploadstatic.mihoyo.com/ys-obc/2022/05/12/4521515/f2040de61844ef9698e59fa1dd85042d_1910740501672497673.mp3\n",
      "Captured mp3 for container 218: https://uploadstatic.mihoyo.com/ys-obc/2022/05/12/4521515/7e7c1a29008d962d14dad2c644f384e9_1925192079836173004.mp3\n",
      "Captured mp3 for container 219: https://uploadstatic.mihoyo.com/ys-obc/2022/05/12/4521515/3f5a98c2c92bdefcd7a747528258954d_8131426470017503159.mp3\n",
      "Captured mp3 for container 220: https://uploadstatic.mihoyo.com/ys-obc/2022/05/12/4521515/c3c72ef8fabf70b3404f6fb240ebfe5e_424984689104792345.mp3\n",
      "Captured mp3 for container 221: https://uploadstatic.mihoyo.com/ys-obc/2022/05/12/4521515/ea701fabb83221795e41aaea5dd21dd3_3662466876551526588.mp3\n",
      "Captured mp3 for container 222: https://uploadstatic.mihoyo.com/ys-obc/2022/05/12/4521515/7728e414743fc8207c982dfdd5cb49f5_7466156355144658129.mp3\n",
      "Captured mp3 for container 223: https://uploadstatic.mihoyo.com/ys-obc/2022/05/12/4521515/8bdefc3f5f6f150e96afc6578cdc2a89_7685218421568767953.mp3\n",
      "Captured mp3 for container 224: https://uploadstatic.mihoyo.com/ys-obc/2022/05/12/4521515/ee073e8a3c09dcefd29981d918702914_6236495037058604785.mp3\n",
      "Captured mp3 for container 225: https://uploadstatic.mihoyo.com/ys-obc/2022/05/12/4521515/1899e0c35e8cd764ba70f88cef3bc8b9_2664321474903939255.mp3\n",
      "Captured mp3 for container 226: https://uploadstatic.mihoyo.com/ys-obc/2022/05/12/4521515/05b6d9ac3d8f19a5374efaf06bfdaf42_491136061766332450.mp3\n",
      "Captured mp3 for container 227: https://uploadstatic.mihoyo.com/ys-obc/2022/05/12/4521515/fef77f77eb97290e1f3729ce9cde08d5_6107762762452601598.mp3\n",
      "Captured mp3 for container 228: https://uploadstatic.mihoyo.com/ys-obc/2022/05/12/4521515/5d7c25d5dd0b75c0a7431e33662d1704_7015738482521299617.mp3\n",
      "Captured mp3 for container 229: https://uploadstatic.mihoyo.com/ys-obc/2022/05/12/4521515/da7b7760fd0cbed0745a5786834267e7_2795897742513671635.mp3\n",
      "Captured mp3 for container 230: https://uploadstatic.mihoyo.com/ys-obc/2022/05/12/4521515/a9013b7a3e8158582f6a7101e09ae049_3565113697172894503.mp3\n",
      "Captured mp3 for container 231: https://uploadstatic.mihoyo.com/ys-obc/2022/05/12/4521515/60433e9d4774753807439141f88cea2c_7782279537237857090.mp3\n",
      "Captured mp3 for container 232: https://uploadstatic.mihoyo.com/ys-obc/2022/05/12/4521515/eb998c66caf9e7d99d403d054a9cafb2_5901823493891819350.mp3\n",
      "Captured mp3 for container 233: https://uploadstatic.mihoyo.com/ys-obc/2022/05/12/4521515/a8455bbafafb4a0fa827fe8389dfaf62_2605212702612965077.mp3\n",
      "Captured mp3 for container 234: https://uploadstatic.mihoyo.com/ys-obc/2022/05/12/4521515/acddc84e0ba3e2b84c5e48d96dc3433d_8969762548814226988.mp3\n",
      "Captured mp3 for container 235: https://uploadstatic.mihoyo.com/ys-obc/2022/05/12/4521515/6247418a783d5bc7ac1c8def3491afaa_2988173339538842974.mp3\n",
      "Captured mp3 for container 236: https://uploadstatic.mihoyo.com/ys-obc/2022/05/12/4521515/7700076807c6100c2cf3e5ca78f7330a_5384466131804644413.mp3\n",
      "Captured mp3 for container 237: https://uploadstatic.mihoyo.com/ys-obc/2022/05/12/4521515/7c44ff15c4b8e2b2bc1b1ac8036e591f_8693426757192331237.mp3\n",
      "Captured mp3 for container 238: https://uploadstatic.mihoyo.com/ys-obc/2022/05/12/4521515/70c37f0fe8196105039c63a9b5aea218_4960717252492258094.mp3\n",
      "Captured mp3 for container 239: https://uploadstatic.mihoyo.com/ys-obc/2022/05/12/4521515/1881e9a58f91026f6c80d806b11d0496_3657758736777778282.mp3\n",
      "Captured mp3 for container 240: https://uploadstatic.mihoyo.com/ys-obc/2022/10/31/16576950/e22ce8597d0a7290d9966aca53ab14ae_4767869866352955653.mp3\n",
      "Captured mp3 for container 241: https://uploadstatic.mihoyo.com/ys-obc/2022/10/31/16576950/8c5a03e754648800fd509a62efe361ec_4166717914458626373.mp3\n",
      "Captured mp3 for container 242: https://uploadstatic.mihoyo.com/ys-obc/2022/11/04/16576950/2136574fa331ce281c70bd0d2339c586_3803410260803220581.mp3\n",
      "Captured mp3 for container 243: https://uploadstatic.mihoyo.com/ys-obc/2022/05/12/4521515/89770016a764ebdf4c876df849da5954_3494904347826370474.mp3\n",
      "Captured mp3 for container 244: https://uploadstatic.mihoyo.com/ys-obc/2022/05/12/4521515/07965d7885ae5a669610b17382c9cb28_5476769017854490152.mp3\n",
      "Captured mp3 for container 245: https://uploadstatic.mihoyo.com/ys-obc/2022/05/12/4521515/eb1dc4c61ee6ec8596e1c97f64fdc42a_1848810122754093956.mp3\n",
      "Captured mp3 for container 246: https://uploadstatic.mihoyo.com/ys-obc/2022/05/12/4521515/1dc17ca3463f6e47f10b4ad5e7239aaf_3508380958713055581.mp3\n",
      "Captured mp3 for container 247: https://uploadstatic.mihoyo.com/ys-obc/2022/05/12/4521515/0d4bf7832d8c42d367a896fa28c41b71_2683786441478083242.mp3\n",
      "Captured mp3 for container 248: https://uploadstatic.mihoyo.com/ys-obc/2022/05/12/4521515/93dea0d360fc974fc395ccc10e1db7d6_1431613994930813198.mp3\n",
      "Captured mp3 for container 249: https://uploadstatic.mihoyo.com/ys-obc/2022/05/12/4521515/c11ef76e31d9fdced3d60d1678338631_1291584109130599006.mp3\n",
      "Captured mp3 for container 250: https://uploadstatic.mihoyo.com/ys-obc/2022/05/12/4521515/4bf7ccefb0574e69f45563baa18dee20_3553309897480809372.mp3\n",
      "Captured mp3 for container 251: https://uploadstatic.mihoyo.com/ys-obc/2022/05/12/4521515/7ca251ef360cd30d5fa01923b042c3e1_4084849333751581930.mp3\n",
      "Captured mp3 for container 252: https://uploadstatic.mihoyo.com/ys-obc/2022/05/12/4521515/748c30e308f9adfd20e8e83b1421dc61_466665306270819878.mp3\n",
      "Captured mp3 for container 253: https://uploadstatic.mihoyo.com/ys-obc/2022/05/12/4521515/a5b3a65e2724ef9d6a97e10854ab7266_7642831344610186846.mp3\n",
      "Captured mp3 for container 254: https://uploadstatic.mihoyo.com/ys-obc/2022/05/12/4521515/04c936ea293009005883889547cbaa7e_6548993343398301494.mp3\n",
      "Captured mp3 for container 255: https://uploadstatic.mihoyo.com/ys-obc/2022/05/12/4521515/85b02bb53b8930d71e2e2d4cf48953ed_5951603603385492424.mp3\n",
      "Captured mp3 for container 256: https://uploadstatic.mihoyo.com/ys-obc/2022/05/12/4521515/fdba35a9ae0f3bc6e7420a735b4f580e_5256704048642818671.mp3\n",
      "Captured mp3 for container 257: https://uploadstatic.mihoyo.com/ys-obc/2022/05/12/4521515/1a4be6f64e01d814cc91190f55e67407_3870265385140395681.mp3\n",
      "Captured mp3 for container 258: https://uploadstatic.mihoyo.com/ys-obc/2022/05/12/4521515/f9735094607f72430bccbb701ef39f98_1471918937890091166.mp3\n",
      "Captured mp3 for container 259: https://uploadstatic.mihoyo.com/ys-obc/2022/05/12/4521515/0a46e555ba1b4ce2a4615dcc92013dba_4369692039368655336.mp3\n",
      "Captured mp3 for container 260: https://uploadstatic.mihoyo.com/ys-obc/2022/05/12/4521515/04b3aaedd15cf87056078219aa117d8e_3129969752975903714.mp3\n",
      "Captured mp3 for container 261: https://uploadstatic.mihoyo.com/ys-obc/2022/05/12/4521515/5ac33c80d0d3e011a9560711192a9062_3249668394111953581.mp3\n",
      "Captured mp3 for container 262: https://uploadstatic.mihoyo.com/ys-obc/2022/10/31/16576950/251818af3615a61d216bef4b4dd54745_1970660041236142779.mp3\n",
      "Captured mp3 for container 263: https://uploadstatic.mihoyo.com/ys-obc/2022/11/04/16576950/d33acf793adaac6fa83566400638b370_6236029339380678862.mp3\n",
      "Captured mp3 for container 264: https://uploadstatic.mihoyo.com/ys-obc/2022/05/16/4521515/a1c994d5576a458cb431b4f4225ca9b4_2566935082964198773.mp3\n",
      "Captured mp3 for container 265: https://uploadstatic.mihoyo.com/ys-obc/2022/05/16/4521515/d1415ee7313516f8911359e8df4ecde8_8373826798615600127.mp3\n",
      "Captured mp3 for container 266: https://uploadstatic.mihoyo.com/ys-obc/2022/05/16/4521515/ee96550aed139de5c6d82e6b1bd14932_8929434832171022274.mp3\n",
      "Captured mp3 for container 267: https://uploadstatic.mihoyo.com/ys-obc/2022/05/16/4521515/143b78865285903479dfa4bdb5b89b1c_3469707006810425286.mp3\n",
      "Captured mp3 for container 268: https://uploadstatic.mihoyo.com/ys-obc/2022/05/16/4521515/315bae003a481ac2485a44df895ca4ae_3641294836660705661.mp3\n",
      "Captured mp3 for container 269: https://uploadstatic.mihoyo.com/ys-obc/2022/05/16/4521515/c628ea46675b2f8b06e2707d69a05a54_7003586882167094667.mp3\n",
      "Captured mp3 for container 270: https://uploadstatic.mihoyo.com/ys-obc/2022/05/16/4521515/71ea78cc0fedf8075ea4f1b88e1dbed6_2771950373464397159.mp3\n",
      "Captured mp3 for container 271: https://uploadstatic.mihoyo.com/ys-obc/2022/05/16/4521515/63c66809c69a4f9266fb360925b11562_8924043444386005202.mp3\n",
      "# of FAILED: 0\n"
     ]
    }
   ],
   "source": [
    "# Navigate to the target URL and wait until at least one container is present.\n",
    "driver.get(URL)\n",
    "WebDriverWait(driver, 10).until(\n",
    "    EC.presence_of_element_located((By.CSS_SELECTOR, \"div.obc-tmpl-character__voice-item\"))\n",
    ")\n",
    "\n",
    "# Locate all container elements that include both the text and the voice button.\n",
    "containers = driver.find_elements(\n",
    "    By.CSS_SELECTOR,\n",
    "    \"div.obc-tmpl-character__voice-item.obc-tmpl-character__play-voice\"\n",
    ")\n",
    "\n",
    "results = []\n",
    "failed=0\n",
    "\n",
    "for index, container in enumerate(containers):\n",
    "    # Extract text from the container.\n",
    "    try:\n",
    "        text_el = container.find_element(By.CSS_SELECTOR, \"span.obc-tmpl-character__voice-content\")\n",
    "        text = text_el.text.strip()\n",
    "    except Exception:\n",
    "        text = \"\"\n",
    "    \n",
    "    # Locate the voice button.\n",
    "    try:\n",
    "        button = container.find_element(By.CSS_SELECTOR, \"div.obc-tmpl-character__voice-btn\")\n",
    "    except Exception:\n",
    "        print(f\"Button not found in container {index}\")\n",
    "        results.append((text, None))\n",
    "        continue\n",
    "\n",
    "    # Scroll the container into view.\n",
    "    driver.execute_script(\"arguments[0].scrollIntoView(true);\", container)\n",
    "    \n",
    "    mp3_url = \"\"\n",
    "    max_attempts = 10  # Total wait: ~5 seconds (10*0.5)\n",
    "    attempt = 0\n",
    "\n",
    "    # Clear previous network requests.\n",
    "    del driver.requests\n",
    "\n",
    "    while attempt < max_attempts and not mp3_url:\n",
    "        try:\n",
    "            ActionChains(driver).click(button).perform()\n",
    "        except Exception as e:\n",
    "            print(f\"Error clicking button in container {index}: {e}\")\n",
    "        # Wait a bit for network requests to occur.\n",
    "        time.sleep(0.5)\n",
    "        # Check driver.requests for a GET request with URL ending in .mp3.\n",
    "        for request in driver.requests:\n",
    "            if request.method == \"GET\" and request.url.lower().endswith(\".mp3\"):\n",
    "                mp3_url = request.url\n",
    "                print(f\"Captured mp3 for container {index}: {mp3_url}\")\n",
    "                break\n",
    "        attempt += 1\n",
    "        driver.requests.clear()\n",
    "\n",
    "    if not mp3_url:\n",
    "        print(f\"No mp3 request captured for container {index}\")\n",
    "        failed+=1\n",
    "    results.append((text, mp3_url))\n",
    "\n",
    "driver.quit()\n",
    "print(f\"# of FAILED: {failed}\")"
   ]
  },
  {
   "cell_type": "code",
   "execution_count": 5,
   "metadata": {},
   "outputs": [
    {
     "data": {
      "text/plain": [
       "True"
      ]
     },
     "execution_count": 5,
     "metadata": {},
     "output_type": "execute_result"
    }
   ],
   "source": [
    "len(list(set([y for x,y in results])))==len(results)"
   ]
  },
  {
   "cell_type": "code",
   "execution_count": 6,
   "metadata": {},
   "outputs": [
    {
     "data": {
      "text/plain": [
       "(272, 68, '2403')"
      ]
     },
     "execution_count": 6,
     "metadata": {},
     "output_type": "execute_result"
    }
   ],
   "source": [
    "import os\n",
    "import requests\n",
    "quarter = len(results) // 4\n",
    "# Headers from network inspection\n",
    "HEADERS = {\n",
    "    \"User-Agent\": \"Mozilla/5.0 (X11; Linux x86_64; rv:136.0) Gecko/20100101 Firefox/136.0\",\n",
    "    \"Referer\": \"https://bbs.mihoyo.com/\",\n",
    "    \"Accept\": \"audio/webm,audio/ogg,audio/wav,audio/*;q=0.9,application/ogg;q=0.7,video/*;q=0.6,*/*;q=0.5\",\n",
    "    \"DNT\": \"1\",\n",
    "    \"Sec-Fetch-Dest\": \"audio\",\n",
    "    \"Sec-Fetch-Mode\": \"no-cors\",\n",
    "    \"Sec-Fetch-Site\": \"same-site\"\n",
    "}\n",
    "person_id=URL.split('/')[-2]\n",
    "len(results),quarter,person_id"
   ]
  },
  {
   "cell_type": "code",
   "execution_count": 7,
   "metadata": {},
   "outputs": [],
   "source": [
    "for i, (text, url) in enumerate(results):\n",
    "    if url:\n",
    "        q = i // quarter\n",
    "        response = requests.get(url, headers=HEADERS, stream=True)\n",
    "        response.raise_for_status()\n",
    "        dir=os.path.join(OUTPUT_DIR,person_id,marks[q])\n",
    "        os.makedirs(dir, exist_ok=True)\n",
    "        with open(os.path.join(dir,f\"{i-q*quarter}.mp3\"),\"wb\") as f:\n",
    "            for chunk in response.iter_content(chunk_size=8192):\n",
    "                if chunk:  # Filter out keep-alive chunks\n",
    "                    f.write(chunk)\n",
    "\n"
   ]
  },
  {
   "cell_type": "code",
   "execution_count": 8,
   "metadata": {},
   "outputs": [],
   "source": [
    "dir=os.path.join(OUTPUT_DIR,person_id)\n",
    "os.makedirs(dir, exist_ok=True)\n",
    "with open(os.path.join(dir,\"index.csv\"),\"w\") as f:\n",
    "    i=0\n",
    "    while i<quarter:\n",
    "        f.write(f\"{i},{results[i][0]}\\n\")\n",
    "        i+=1\n"
   ]
  },
  {
   "cell_type": "code",
   "execution_count": 14,
   "metadata": {},
   "outputs": [
    {
     "name": "stderr",
     "output_type": "stream",
     "text": [
      "Device set to use cpu\n"
     ]
    }
   ],
   "source": [
    "import torch\n",
    "from transformers import AutoModelForSpeechSeq2Seq, AutoProcessor, pipeline\n",
    "import os\n",
    "import librosa\n",
    "\n",
    "\n",
    "device = \"cpu\"#\"cuda:0\" if torch.cuda.is_available() else \"cpu\"\n",
    "torch_dtype = torch.float32#torch.float16 if torch.cuda.is_available() else torch.float32\n",
    "\n",
    "model_id = \"openai/whisper-large-v3\"  # Note: Corrected model ID from original\n",
    "\n",
    "model = AutoModelForSpeechSeq2Seq.from_pretrained(\n",
    "    model_id, torch_dtype=torch_dtype, low_cpu_mem_usage=True, use_safetensors=True\n",
    ")\n",
    "model.to(device)\n",
    "\n",
    "processor = AutoProcessor.from_pretrained(model_id)\n",
    "\n",
    "pipe = pipeline(\n",
    "    \"automatic-speech-recognition\",\n",
    "    model=model,\n",
    "    tokenizer=processor.tokenizer,\n",
    "    feature_extractor=processor.feature_extractor,\n",
    "    torch_dtype=torch_dtype,\n",
    "    device=device,\n",
    "    return_timestamps=\"word\",  # Changed from True to \"word\" for word-level timestamps\n",
    "    generate_kwargs={\n",
    "        \"task\": \"transcribe\",\n",
    "        \"language\": \"english\",  # Specify your audio's language\n",
    "    },\n",
    ")"
   ]
  },
  {
   "cell_type": "code",
   "execution_count": 15,
   "metadata": {},
   "outputs": [],
   "source": [
    "mp3_dir=os.path.join(dir,'E')"
   ]
  },
  {
   "cell_type": "code",
   "execution_count": 16,
   "metadata": {},
   "outputs": [
    {
     "name": "stderr",
     "output_type": "stream",
     "text": [
      "Whisper did not predict an ending timestamp, which can happen if audio is cut off in the middle of a word. Also make sure WhisperTimeStampLogitsProcessor was used during generation.\n"
     ]
    },
    {
     "name": "stdout",
     "output_type": "stream",
     "text": [
      "."
     ]
    },
    {
     "name": "stderr",
     "output_type": "stream",
     "text": [
      "Whisper did not predict an ending timestamp, which can happen if audio is cut off in the middle of a word. Also make sure WhisperTimeStampLogitsProcessor was used during generation.\n"
     ]
    },
    {
     "name": "stdout",
     "output_type": "stream",
     "text": [
      "."
     ]
    },
    {
     "name": "stderr",
     "output_type": "stream",
     "text": [
      "Whisper did not predict an ending timestamp, which can happen if audio is cut off in the middle of a word. Also make sure WhisperTimeStampLogitsProcessor was used during generation.\n"
     ]
    },
    {
     "name": "stdout",
     "output_type": "stream",
     "text": [
      "."
     ]
    },
    {
     "name": "stderr",
     "output_type": "stream",
     "text": [
      "Whisper did not predict an ending timestamp, which can happen if audio is cut off in the middle of a word. Also make sure WhisperTimeStampLogitsProcessor was used during generation.\n"
     ]
    },
    {
     "name": "stdout",
     "output_type": "stream",
     "text": [
      "."
     ]
    },
    {
     "name": "stderr",
     "output_type": "stream",
     "text": [
      "Whisper did not predict an ending timestamp, which can happen if audio is cut off in the middle of a word. Also make sure WhisperTimeStampLogitsProcessor was used during generation.\n"
     ]
    },
    {
     "name": "stdout",
     "output_type": "stream",
     "text": [
      ".."
     ]
    },
    {
     "name": "stderr",
     "output_type": "stream",
     "text": [
      "Whisper did not predict an ending timestamp, which can happen if audio is cut off in the middle of a word. Also make sure WhisperTimeStampLogitsProcessor was used during generation.\n"
     ]
    },
    {
     "name": "stdout",
     "output_type": "stream",
     "text": [
      "."
     ]
    },
    {
     "name": "stderr",
     "output_type": "stream",
     "text": [
      "Whisper did not predict an ending timestamp, which can happen if audio is cut off in the middle of a word. Also make sure WhisperTimeStampLogitsProcessor was used during generation.\n"
     ]
    },
    {
     "name": "stdout",
     "output_type": "stream",
     "text": [
      "."
     ]
    },
    {
     "name": "stderr",
     "output_type": "stream",
     "text": [
      "Whisper did not predict an ending timestamp, which can happen if audio is cut off in the middle of a word. Also make sure WhisperTimeStampLogitsProcessor was used during generation.\n"
     ]
    },
    {
     "name": "stdout",
     "output_type": "stream",
     "text": [
      "."
     ]
    },
    {
     "name": "stderr",
     "output_type": "stream",
     "text": [
      "Whisper did not predict an ending timestamp, which can happen if audio is cut off in the middle of a word. Also make sure WhisperTimeStampLogitsProcessor was used during generation.\n"
     ]
    },
    {
     "name": "stdout",
     "output_type": "stream",
     "text": [
      "."
     ]
    },
    {
     "name": "stderr",
     "output_type": "stream",
     "text": [
      "Whisper did not predict an ending timestamp, which can happen if audio is cut off in the middle of a word. Also make sure WhisperTimeStampLogitsProcessor was used during generation.\n"
     ]
    },
    {
     "name": "stdout",
     "output_type": "stream",
     "text": [
      "."
     ]
    },
    {
     "name": "stderr",
     "output_type": "stream",
     "text": [
      "Whisper did not predict an ending timestamp, which can happen if audio is cut off in the middle of a word. Also make sure WhisperTimeStampLogitsProcessor was used during generation.\n"
     ]
    },
    {
     "name": "stdout",
     "output_type": "stream",
     "text": [
      "."
     ]
    },
    {
     "name": "stderr",
     "output_type": "stream",
     "text": [
      "Whisper did not predict an ending timestamp, which can happen if audio is cut off in the middle of a word. Also make sure WhisperTimeStampLogitsProcessor was used during generation.\n"
     ]
    },
    {
     "name": "stdout",
     "output_type": "stream",
     "text": [
      "."
     ]
    },
    {
     "name": "stderr",
     "output_type": "stream",
     "text": [
      "Whisper did not predict an ending timestamp, which can happen if audio is cut off in the middle of a word. Also make sure WhisperTimeStampLogitsProcessor was used during generation.\n"
     ]
    },
    {
     "name": "stdout",
     "output_type": "stream",
     "text": [
      "."
     ]
    },
    {
     "name": "stderr",
     "output_type": "stream",
     "text": [
      "Whisper did not predict an ending timestamp, which can happen if audio is cut off in the middle of a word. Also make sure WhisperTimeStampLogitsProcessor was used during generation.\n"
     ]
    },
    {
     "name": "stdout",
     "output_type": "stream",
     "text": [
      "."
     ]
    },
    {
     "name": "stderr",
     "output_type": "stream",
     "text": [
      "Whisper did not predict an ending timestamp, which can happen if audio is cut off in the middle of a word. Also make sure WhisperTimeStampLogitsProcessor was used during generation.\n"
     ]
    },
    {
     "name": "stdout",
     "output_type": "stream",
     "text": [
      ".."
     ]
    },
    {
     "name": "stderr",
     "output_type": "stream",
     "text": [
      "Whisper did not predict an ending timestamp, which can happen if audio is cut off in the middle of a word. Also make sure WhisperTimeStampLogitsProcessor was used during generation.\n"
     ]
    },
    {
     "name": "stdout",
     "output_type": "stream",
     "text": [
      "."
     ]
    },
    {
     "name": "stderr",
     "output_type": "stream",
     "text": [
      "Whisper did not predict an ending timestamp, which can happen if audio is cut off in the middle of a word. Also make sure WhisperTimeStampLogitsProcessor was used during generation.\n"
     ]
    },
    {
     "name": "stdout",
     "output_type": "stream",
     "text": [
      "."
     ]
    },
    {
     "name": "stderr",
     "output_type": "stream",
     "text": [
      "Whisper did not predict an ending timestamp, which can happen if audio is cut off in the middle of a word. Also make sure WhisperTimeStampLogitsProcessor was used during generation.\n"
     ]
    },
    {
     "name": "stdout",
     "output_type": "stream",
     "text": [
      "."
     ]
    },
    {
     "name": "stderr",
     "output_type": "stream",
     "text": [
      "Whisper did not predict an ending timestamp, which can happen if audio is cut off in the middle of a word. Also make sure WhisperTimeStampLogitsProcessor was used during generation.\n"
     ]
    },
    {
     "name": "stdout",
     "output_type": "stream",
     "text": [
      "."
     ]
    },
    {
     "name": "stderr",
     "output_type": "stream",
     "text": [
      "Whisper did not predict an ending timestamp, which can happen if audio is cut off in the middle of a word. Also make sure WhisperTimeStampLogitsProcessor was used during generation.\n"
     ]
    },
    {
     "name": "stdout",
     "output_type": "stream",
     "text": [
      "."
     ]
    },
    {
     "name": "stderr",
     "output_type": "stream",
     "text": [
      "Whisper did not predict an ending timestamp, which can happen if audio is cut off in the middle of a word. Also make sure WhisperTimeStampLogitsProcessor was used during generation.\n"
     ]
    },
    {
     "name": "stdout",
     "output_type": "stream",
     "text": [
      "."
     ]
    },
    {
     "name": "stderr",
     "output_type": "stream",
     "text": [
      "Whisper did not predict an ending timestamp, which can happen if audio is cut off in the middle of a word. Also make sure WhisperTimeStampLogitsProcessor was used during generation.\n"
     ]
    },
    {
     "name": "stdout",
     "output_type": "stream",
     "text": [
      "."
     ]
    },
    {
     "name": "stderr",
     "output_type": "stream",
     "text": [
      "Whisper did not predict an ending timestamp, which can happen if audio is cut off in the middle of a word. Also make sure WhisperTimeStampLogitsProcessor was used during generation.\n"
     ]
    },
    {
     "name": "stdout",
     "output_type": "stream",
     "text": [
      "."
     ]
    },
    {
     "name": "stderr",
     "output_type": "stream",
     "text": [
      "Whisper did not predict an ending timestamp, which can happen if audio is cut off in the middle of a word. Also make sure WhisperTimeStampLogitsProcessor was used during generation.\n"
     ]
    },
    {
     "name": "stdout",
     "output_type": "stream",
     "text": [
      "."
     ]
    },
    {
     "name": "stderr",
     "output_type": "stream",
     "text": [
      "Whisper did not predict an ending timestamp, which can happen if audio is cut off in the middle of a word. Also make sure WhisperTimeStampLogitsProcessor was used during generation.\n"
     ]
    },
    {
     "name": "stdout",
     "output_type": "stream",
     "text": [
      "."
     ]
    },
    {
     "name": "stderr",
     "output_type": "stream",
     "text": [
      "Whisper did not predict an ending timestamp, which can happen if audio is cut off in the middle of a word. Also make sure WhisperTimeStampLogitsProcessor was used during generation.\n"
     ]
    },
    {
     "name": "stdout",
     "output_type": "stream",
     "text": [
      "."
     ]
    },
    {
     "name": "stderr",
     "output_type": "stream",
     "text": [
      "Whisper did not predict an ending timestamp, which can happen if audio is cut off in the middle of a word. Also make sure WhisperTimeStampLogitsProcessor was used during generation.\n"
     ]
    },
    {
     "name": "stdout",
     "output_type": "stream",
     "text": [
      "."
     ]
    },
    {
     "name": "stderr",
     "output_type": "stream",
     "text": [
      "Whisper did not predict an ending timestamp, which can happen if audio is cut off in the middle of a word. Also make sure WhisperTimeStampLogitsProcessor was used during generation.\n"
     ]
    },
    {
     "name": "stdout",
     "output_type": "stream",
     "text": [
      "."
     ]
    },
    {
     "name": "stderr",
     "output_type": "stream",
     "text": [
      "Whisper did not predict an ending timestamp, which can happen if audio is cut off in the middle of a word. Also make sure WhisperTimeStampLogitsProcessor was used during generation.\n"
     ]
    },
    {
     "name": "stdout",
     "output_type": "stream",
     "text": [
      "."
     ]
    },
    {
     "name": "stderr",
     "output_type": "stream",
     "text": [
      "Whisper did not predict an ending timestamp, which can happen if audio is cut off in the middle of a word. Also make sure WhisperTimeStampLogitsProcessor was used during generation.\n"
     ]
    },
    {
     "name": "stdout",
     "output_type": "stream",
     "text": [
      "."
     ]
    },
    {
     "name": "stderr",
     "output_type": "stream",
     "text": [
      "Whisper did not predict an ending timestamp, which can happen if audio is cut off in the middle of a word. Also make sure WhisperTimeStampLogitsProcessor was used during generation.\n"
     ]
    },
    {
     "name": "stdout",
     "output_type": "stream",
     "text": [
      "."
     ]
    },
    {
     "name": "stderr",
     "output_type": "stream",
     "text": [
      "Whisper did not predict an ending timestamp, which can happen if audio is cut off in the middle of a word. Also make sure WhisperTimeStampLogitsProcessor was used during generation.\n"
     ]
    },
    {
     "name": "stdout",
     "output_type": "stream",
     "text": [
      "."
     ]
    },
    {
     "name": "stderr",
     "output_type": "stream",
     "text": [
      "Whisper did not predict an ending timestamp, which can happen if audio is cut off in the middle of a word. Also make sure WhisperTimeStampLogitsProcessor was used during generation.\n"
     ]
    },
    {
     "name": "stdout",
     "output_type": "stream",
     "text": [
      "."
     ]
    },
    {
     "name": "stderr",
     "output_type": "stream",
     "text": [
      "Whisper did not predict an ending timestamp, which can happen if audio is cut off in the middle of a word. Also make sure WhisperTimeStampLogitsProcessor was used during generation.\n"
     ]
    },
    {
     "name": "stdout",
     "output_type": "stream",
     "text": [
      "."
     ]
    },
    {
     "name": "stderr",
     "output_type": "stream",
     "text": [
      "Whisper did not predict an ending timestamp, which can happen if audio is cut off in the middle of a word. Also make sure WhisperTimeStampLogitsProcessor was used during generation.\n"
     ]
    },
    {
     "name": "stdout",
     "output_type": "stream",
     "text": [
      "."
     ]
    },
    {
     "name": "stderr",
     "output_type": "stream",
     "text": [
      "Whisper did not predict an ending timestamp, which can happen if audio is cut off in the middle of a word. Also make sure WhisperTimeStampLogitsProcessor was used during generation.\n"
     ]
    },
    {
     "name": "stdout",
     "output_type": "stream",
     "text": [
      "."
     ]
    },
    {
     "name": "stderr",
     "output_type": "stream",
     "text": [
      "Whisper did not predict an ending timestamp, which can happen if audio is cut off in the middle of a word. Also make sure WhisperTimeStampLogitsProcessor was used during generation.\n"
     ]
    },
    {
     "name": "stdout",
     "output_type": "stream",
     "text": [
      "."
     ]
    },
    {
     "name": "stderr",
     "output_type": "stream",
     "text": [
      "Whisper did not predict an ending timestamp, which can happen if audio is cut off in the middle of a word. Also make sure WhisperTimeStampLogitsProcessor was used during generation.\n"
     ]
    },
    {
     "name": "stdout",
     "output_type": "stream",
     "text": [
      "."
     ]
    }
   ],
   "source": [
    "\n",
    "results = []\n",
    "for filename in os.listdir(mp3_dir):\n",
    "    if filename.lower().endswith('.mp3'):\n",
    "        file_path = os.path.join(mp3_dir, filename)\n",
    "        \n",
    "        # Load audio with librosa (properly resampled)\n",
    "        audio, sr = librosa.load(file_path, sr=16000, mono=True)\n",
    "        \n",
    "        # Process with timestamp generation\n",
    "        result = pipe(\n",
    "            {\"array\": audio, \"sampling_rate\": sr},\n",
    "            return_timestamps=\"word\",  # Ensure timestamp generation\n",
    "        )\n",
    "        \n",
    "        results.append(\n",
    "           (int(os.path.splitext(filename)[0]),result[\"text\"])\n",
    "        )"
   ]
  },
  {
   "cell_type": "code",
   "execution_count": null,
   "metadata": {},
   "outputs": [],
   "source": [
    "results=sorted(results)\n",
    "results"
   ]
  },
  {
   "cell_type": "code",
   "execution_count": null,
   "metadata": {},
   "outputs": [],
   "source": [
    "with open(os.path.join(mp3_dir,\"index.csv\"),\"w\") as f:\n",
    "    for idx,text in results:\n",
    "        f.write(f\"{idx},{text}\\n\")\n"
   ]
  }
 ],
 "metadata": {
  "kernelspec": {
   "display_name": "3.12",
   "language": "python",
   "name": "python3"
  },
  "language_info": {
   "codemirror_mode": {
    "name": "ipython",
    "version": 3
   },
   "file_extension": ".py",
   "mimetype": "text/x-python",
   "name": "python",
   "nbconvert_exporter": "python",
   "pygments_lexer": "ipython3",
   "version": "3.12.8"
  }
 },
 "nbformat": 4,
 "nbformat_minor": 2
}
