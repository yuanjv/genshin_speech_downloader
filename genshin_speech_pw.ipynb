{
 "cells": [
  {
   "cell_type": "markdown",
   "metadata": {},
   "source": [
    "SOME BUGS PLS USE THE SELENIUM VERSION\n"
   ]
  },
  {
   "cell_type": "code",
   "execution_count": 22,
   "metadata": {},
   "outputs": [],
   "source": [
    "from playwright.async_api import async_playwright\n",
    "import asyncio"
   ]
  },
  {
   "cell_type": "code",
   "execution_count": 23,
   "metadata": {},
   "outputs": [
    {
     "data": {
      "text/plain": [
       "'\\n<td>\\n    <div class=\"obc-tmpl-character__voice-item obc-tmpl-character__play-voice\">\\n        <div class=\"obc-tmpl-character__voice-btn\">\\n        </div> \\n        <span class=\"obc-tmpl-character__voice-content\"> \\t\\n            [text] \\t \\n        </span>\\n    </div>\\n </td>\\n'"
      ]
     },
     "execution_count": 23,
     "metadata": {},
     "output_type": "execute_result"
    }
   ],
   "source": [
    "\"\"\"\n",
    "<td>\n",
    "    <div class=\"obc-tmpl-character__voice-item obc-tmpl-character__play-voice\">\n",
    "        <div class=\"obc-tmpl-character__voice-btn\">\n",
    "        </div> \n",
    "        <span class=\"obc-tmpl-character__voice-content\"> \t\n",
    "            [text] \t \n",
    "        </span>\n",
    "    </div>\n",
    " </td>\n",
    "\"\"\""
   ]
  },
  {
   "cell_type": "code",
   "execution_count": 24,
   "metadata": {},
   "outputs": [],
   "source": [
    "URL = \"https://bbs.mihoyo.com/ys/obc/content/503614/detail\"\n",
    "TRAGET_FEATURE=\"https://act-upload.mihoyo.com/wiki-user-upload\"\n",
    "OUTPUT_DIR = \"/tmp/audio\""
   ]
  },
  {
   "cell_type": "code",
   "execution_count": 26,
   "metadata": {},
   "outputs": [
    {
     "name": "stdout",
     "output_type": "stream",
     "text": [
      "Captured mp3 for container 0: https://act-upload.mihoyo.com/wiki-user-upload/2025/01/24/16576950/5c5b0c7d4f18fdd601fa684ac3f2dddf_1601913573539800143.mp3\n",
      "Captured mp3 for container 1: https://act-upload.mihoyo.com/wiki-user-upload/2025/01/24/16576950/98660f0a7e0d7a0f5ecf9a5ebce8080e_4716642393252047127.mp3\n",
      "Captured mp3 for container 2: https://act-upload.mihoyo.com/wiki-user-upload/2025/01/24/16576950/b704c1e44aaf1462a91a5a1b03166fae_3657252695928088414.mp3\n",
      "Captured mp3 for container 3: https://act-upload.mihoyo.com/wiki-user-upload/2025/01/24/16576950/516d8bd61233672cb706058ee93489d8_525339030534888011.mp3\n",
      "Captured mp3 for container 4: https://act-upload.mihoyo.com/wiki-user-upload/2025/01/24/16576950/efbcb36835fcd63dd181191ba69a73bb_6685150892736786968.mp3\n",
      "Captured mp3 for container 5: https://act-upload.mihoyo.com/wiki-user-upload/2025/01/24/16576950/77d7683573809d10db98d42261272401_4467602525331314027.mp3\n",
      "Captured mp3 for container 6: https://act-upload.mihoyo.com/wiki-user-upload/2025/01/24/16576950/a68f3ee393e6850ceeb6e4c47559bfb0_3982350163795647661.mp3\n",
      "Captured mp3 for container 9: https://act-upload.mihoyo.com/wiki-user-upload/2025/01/24/16576950/c1fd324168ed41925be30e58d4bb322d_623626301914055427.mp3\n",
      "Captured mp3 for container 10: https://act-upload.mihoyo.com/wiki-user-upload/2025/01/24/16576950/b045260a452c614c8c5ae307f5377c73_3697054044107614536.mp3\n",
      "Captured mp3 for container 11: https://act-upload.mihoyo.com/wiki-user-upload/2025/01/24/16576950/e0a710207d570789a89450e3c6a1c8df_1222004909857495564.mp3\n",
      "Captured mp3 for container 12: https://act-upload.mihoyo.com/wiki-user-upload/2025/01/24/16576950/af3d7543186265493de7e367cd4533f0_4465006930579752791.mp3\n",
      "Captured mp3 for container 13: https://act-upload.mihoyo.com/wiki-user-upload/2025/01/24/16576950/f79c2667d2eb62f083cf95ef15d88d2d_1752701039537959157.mp3\n",
      "Captured mp3 for container 14: https://act-upload.mihoyo.com/wiki-user-upload/2025/01/24/16576950/65d4aedef1e8ba10d86d4c7b2e64c250_261757416077999185.mp3\n"
     ]
    },
    {
     "ename": "CancelledError",
     "evalue": "",
     "output_type": "error",
     "traceback": [
      "\u001b[0;31m---------------------------------------------------------------------------\u001b[0m",
      "\u001b[0;31mCancelledError\u001b[0m                            Traceback (most recent call last)",
      "Cell \u001b[0;32mIn[26], line 66\u001b[0m\n\u001b[1;32m     63\u001b[0m         \u001b[38;5;28;01mawait\u001b[39;00m browser\u001b[38;5;241m.\u001b[39mclose()\n\u001b[1;32m     64\u001b[0m     \u001b[38;5;28;01mreturn\u001b[39;00m results\n\u001b[0;32m---> 66\u001b[0m l\u001b[38;5;241m=\u001b[39m\u001b[38;5;28;01mawait\u001b[39;00m scrape_texts_and_urls()\n",
      "Cell \u001b[0;32mIn[26], line 39\u001b[0m, in \u001b[0;36mscrape_texts_and_urls\u001b[0;34m()\u001b[0m\n\u001b[1;32m     36\u001b[0m \u001b[38;5;28;01mwhile\u001b[39;00m mp3_url \u001b[38;5;129;01mis\u001b[39;00m \u001b[38;5;28;01mNone\u001b[39;00m:\n\u001b[1;32m     37\u001b[0m     \u001b[38;5;28;01mtry\u001b[39;00m:\n\u001b[1;32m     38\u001b[0m         \u001b[38;5;66;03m# Wait for the .mp3 GET request triggered by clicking the button.\u001b[39;00m\n\u001b[0;32m---> 39\u001b[0m         \u001b[38;5;28;01masync\u001b[39;00m \u001b[38;5;28;01mwith\u001b[39;00m page\u001b[38;5;241m.\u001b[39mexpect_request(\n\u001b[1;32m     40\u001b[0m             \u001b[38;5;28;01mlambda\u001b[39;00m request: request\u001b[38;5;241m.\u001b[39mmethod \u001b[38;5;241m==\u001b[39m \u001b[38;5;124m\"\u001b[39m\u001b[38;5;124mGET\u001b[39m\u001b[38;5;124m\"\u001b[39m \u001b[38;5;129;01mand\u001b[39;00m request\u001b[38;5;241m.\u001b[39murl\u001b[38;5;241m.\u001b[39mendswith(\u001b[38;5;124m\"\u001b[39m\u001b[38;5;124m.mp3\u001b[39m\u001b[38;5;124m\"\u001b[39m),\n\u001b[1;32m     41\u001b[0m             timeout\u001b[38;5;241m=\u001b[39m\u001b[38;5;241m5000\u001b[39m\n\u001b[1;32m     42\u001b[0m         ) \u001b[38;5;28;01mas\u001b[39;00m request_info:\n\u001b[1;32m     43\u001b[0m             \u001b[38;5;28;01mawait\u001b[39;00m button\u001b[38;5;241m.\u001b[39mscroll_into_view_if_needed()\n\u001b[1;32m     44\u001b[0m             \u001b[38;5;28;01mawait\u001b[39;00m button\u001b[38;5;241m.\u001b[39mclick(\n\u001b[1;32m     45\u001b[0m                 timeout\u001b[38;5;241m=\u001b[39m\u001b[38;5;241m8000\u001b[39m,\n\u001b[1;32m     46\u001b[0m                 force\u001b[38;5;241m=\u001b[39m\u001b[38;5;28;01mTrue\u001b[39;00m,\n\u001b[1;32m     47\u001b[0m                 delay\u001b[38;5;241m=\u001b[39m\u001b[38;5;241m100\u001b[39m,  \u001b[38;5;66;03m# 模拟人类操作间隔\u001b[39;00m\n\u001b[1;32m     48\u001b[0m                 trial\u001b[38;5;241m=\u001b[39m\u001b[38;5;28;01mTrue\u001b[39;00m  \u001b[38;5;66;03m# 先执行检查动作\u001b[39;00m\n\u001b[1;32m     49\u001b[0m             )\n",
      "File \u001b[0;32m~/miniconda3/envs/3.12/lib/python3.12/site-packages/playwright/_impl/_async_base.py:60\u001b[0m, in \u001b[0;36mAsyncEventContextManager.__aexit__\u001b[0;34m(self, exc_type, exc_val, exc_tb)\u001b[0m\n\u001b[1;32m     58\u001b[0m     \u001b[38;5;28mself\u001b[39m\u001b[38;5;241m.\u001b[39m_event\u001b[38;5;241m.\u001b[39m_cancel()\n\u001b[1;32m     59\u001b[0m \u001b[38;5;28;01melse\u001b[39;00m:\n\u001b[0;32m---> 60\u001b[0m     \u001b[38;5;28;01mawait\u001b[39;00m \u001b[38;5;28mself\u001b[39m\u001b[38;5;241m.\u001b[39m_event\u001b[38;5;241m.\u001b[39mvalue\n",
      "File \u001b[0;32m~/miniconda3/envs/3.12/lib/python3.12/site-packages/playwright/_impl/_async_base.py:35\u001b[0m, in \u001b[0;36mAsyncEventInfo.value\u001b[0;34m(self)\u001b[0m\n\u001b[1;32m     33\u001b[0m \u001b[38;5;129m@property\u001b[39m\n\u001b[1;32m     34\u001b[0m \u001b[38;5;28;01masync\u001b[39;00m \u001b[38;5;28;01mdef\u001b[39;00m \u001b[38;5;21mvalue\u001b[39m(\u001b[38;5;28mself\u001b[39m) \u001b[38;5;241m-\u001b[39m\u001b[38;5;241m>\u001b[39m T:\n\u001b[0;32m---> 35\u001b[0m     \u001b[38;5;28;01mreturn\u001b[39;00m mapping\u001b[38;5;241m.\u001b[39mfrom_maybe_impl(\u001b[38;5;28;01mawait\u001b[39;00m \u001b[38;5;28mself\u001b[39m\u001b[38;5;241m.\u001b[39m_future)\n",
      "\u001b[0;31mCancelledError\u001b[0m: "
     ]
    }
   ],
   "source": [
    "async def scrape_texts_and_urls():\n",
    "    results = []\n",
    "    async with async_playwright() as p:\n",
    "        browser = await p.chromium.launch(headless=True)\n",
    "        context = await browser.new_context() \n",
    "        page = await context.new_page()\n",
    "        \n",
    "        # Intercept all requests and add a \"Cache-Control: no-cache\" header.\n",
    "        await page.route(\"**/*\", lambda route, request: route.continue_(\n",
    "            headers={**request.headers, \"Cache-Control\": \"no-cache\"}\n",
    "        ))\n",
    "        \n",
    "        # Navigate to the page and wait for the containers.\n",
    "        await page.goto(URL)\n",
    "        await page.wait_for_selector(\"div.obc-tmpl-character__voice-item\")\n",
    "        \n",
    "        # Select all containers that include both the text and the voice button.\n",
    "        containers = await page.query_selector_all(\"div.obc-tmpl-character__voice-item.obc-tmpl-character__play-voice\")\n",
    "        \n",
    "        for index, container in enumerate(containers):\n",
    "            # Extract the text.\n",
    "            text_el = await container.query_selector(\"span.obc-tmpl-character__voice-content\")\n",
    "            text = (await text_el.text_content()).strip() if text_el else \"\"\n",
    "            \n",
    "            # Locate the voice button.\n",
    "            button = await container.query_selector(\"div.obc-tmpl-character__voice-btn\")\n",
    "            if not button:\n",
    "                print(f\"Button not found in container {index}\")\n",
    "                results.append((text, None))\n",
    "                continue\n",
    "            \n",
    "            # Ensure the container is visible.\n",
    "            await container.scroll_into_view_if_needed()\n",
    "            \n",
    "            mp3_url = None\n",
    "            while mp3_url is None:\n",
    "                try:\n",
    "                    # Wait for the .mp3 GET request triggered by clicking the button.\n",
    "                    async with page.expect_request(\n",
    "                        lambda request: request.method == \"GET\" and request.url.endswith(\".mp3\"),\n",
    "                        timeout=5000\n",
    "                    ) as request_info:\n",
    "                        await button.scroll_into_view_if_needed()\n",
    "                        await button.click(\n",
    "                            timeout=8000,\n",
    "                            force=True,\n",
    "                            delay=100,\n",
    "                            trial=True  \n",
    "                        )\n",
    "                        await button.evaluate(\"element => { element.style.pointerEvents = 'auto'; element.click() }\")\n",
    "                        # Brief pause to allow the request to be initiated.\n",
    "                        await asyncio.sleep(0.5)\n",
    "                    mp3_request = await request_info.value\n",
    "                    mp3_url = mp3_request.url\n",
    "                    print(f\"Captured mp3 for container {index}: {mp3_url}\")\n",
    "                except Exception as e:\n",
    "                    #print(f\"Retrying for container {index} text '{text}' due to: {e}\")\n",
    "                    #await asyncio.sleep(1)\n",
    "                    mp3_url=\"\"\n",
    "            \n",
    "            results.append((text, mp3_url))\n",
    "        \n",
    "        await browser.close()\n",
    "    return results\n",
    "\n",
    "l=await scrape_texts_and_urls()\n",
    "    \n"
   ]
  },
  {
   "cell_type": "code",
   "execution_count": 5,
   "metadata": {},
   "outputs": [
    {
     "data": {
      "text/plain": [
       "[('你好，我是沉玉谷手工艺工会的蓝砚。是想做点摆件、篮子还是花瓶、家具之类的呢？呃，备用的藤枝藤条不多了，得先去山里采一趟…你也想帮忙？嘻嘻，你人真好，我多送你一顶藤编遮阳帽可好？',\n",
       "  'https://act-upload.mihoyo.com/wiki-user-upload/2025/01/24/16576950/5c5b0c7d4f18fdd601fa684ac3f2dddf_1601913573539800143.mp3'),\n",
       " ('今天的计划？嗯…听随当下的心意而动。明天也是，每天都是，嘻嘻。',\n",
       "  'https://act-upload.mihoyo.com/wiki-user-upload/2025/01/24/16576950/98660f0a7e0d7a0f5ecf9a5ebce8080e_4716642393252047127.mp3'),\n",
       " ('好的藤器经篾薄如绸，纬条细若丝，经久不坏…说它能跟银器一样当传家宝一点都不夸张。',\n",
       "  'https://act-upload.mihoyo.com/wiki-user-upload/2025/01/24/16576950/b704c1e44aaf1462a91a5a1b03166fae_3657252695928088414.mp3'),\n",
       " ('天暖燕子么搭窝窝，升雷扯闪么我家躲。',\n",
       "  'https://act-upload.mihoyo.com/wiki-user-upload/2025/01/24/16576950/516d8bd61233672cb706058ee93489d8_525339030534888011.mp3'),\n",
       " ('赶不及躲雨了，那——安心淋雨吧，还省了跑步的力气。',\n",
       "  'https://act-upload.mihoyo.com/wiki-user-upload/2025/01/24/16576950/efbcb36835fcd63dd181191ba69a73bb_6685150892736786968.mp3')]"
      ]
     },
     "execution_count": 5,
     "metadata": {},
     "output_type": "execute_result"
    }
   ],
   "source": [
    "l[:5]"
   ]
  },
  {
   "cell_type": "code",
   "execution_count": 6,
   "metadata": {},
   "outputs": [],
   "source": [
    "import os\n",
    "import requests"
   ]
  },
  {
   "cell_type": "code",
   "execution_count": 20,
   "metadata": {},
   "outputs": [],
   "source": [
    "quarter = len(l) // 4\n",
    "marks=[\"C\",\"J\",\"E\",\"K\"]"
   ]
  },
  {
   "cell_type": "code",
   "execution_count": 9,
   "metadata": {},
   "outputs": [],
   "source": [
    "# Headers from network inspection\n",
    "HEADERS = {\n",
    "    \"User-Agent\": \"Mozilla/5.0 (X11; Linux x86_64; rv:136.0) Gecko/20100101 Firefox/136.0\",\n",
    "    \"Referer\": \"https://bbs.mihoyo.com/\",\n",
    "    \"Accept\": \"audio/webm,audio/ogg,audio/wav,audio/*;q=0.9,application/ogg;q=0.7,video/*;q=0.6,*/*;q=0.5\",\n",
    "    \"DNT\": \"1\",\n",
    "    \"Sec-Fetch-Dest\": \"audio\",\n",
    "    \"Sec-Fetch-Mode\": \"no-cors\",\n",
    "    \"Sec-Fetch-Site\": \"same-site\"\n",
    "}"
   ]
  },
  {
   "cell_type": "code",
   "execution_count": 16,
   "metadata": {},
   "outputs": [
    {
     "data": {
      "text/plain": [
       "'4073'"
      ]
     },
     "execution_count": 16,
     "metadata": {},
     "output_type": "execute_result"
    }
   ],
   "source": [
    "person_id=URL.split('/')[-2]\n",
    "person_id"
   ]
  },
  {
   "cell_type": "code",
   "execution_count": 12,
   "metadata": {},
   "outputs": [],
   "source": [
    "for i, (text, url) in enumerate(l):\n",
    "    if url:\n",
    "        q = i // quarter\n",
    "        response = requests.get(url, headers=HEADERS, stream=True)\n",
    "        response.raise_for_status()\n",
    "        dir=os.path.join(OUTPUT_DIR,person_id,marks[q])\n",
    "        os.makedirs(dir, exist_ok=True)\n",
    "        with open(os.path.join(dir,f\"{i-q*quarter}.mp3\"),\"wb\") as f:\n",
    "            for chunk in response.iter_content(chunk_size=8192):\n",
    "                if chunk:  # Filter out keep-alive chunks\n",
    "                    f.write(chunk)\n",
    "\n"
   ]
  },
  {
   "cell_type": "code",
   "execution_count": 21,
   "metadata": {},
   "outputs": [],
   "source": [
    "dir=os.path.join(OUTPUT_DIR,person_id)\n",
    "os.makedirs(dir, exist_ok=True)\n",
    "with open(os.path.join(dir,\"index.csv\"),\"w\") as f:\n",
    "    i=0\n",
    "    while i<quarter:\n",
    "        f.write(f\"{i},{l[i][0]}\\n\")\n",
    "        i+=1\n"
   ]
  }
 ],
 "metadata": {
  "kernelspec": {
   "display_name": "3.12",
   "language": "python",
   "name": "python3"
  },
  "language_info": {
   "codemirror_mode": {
    "name": "ipython",
    "version": 3
   },
   "file_extension": ".py",
   "mimetype": "text/x-python",
   "name": "python",
   "nbconvert_exporter": "python",
   "pygments_lexer": "ipython3",
   "version": "3.12.8"
  }
 },
 "nbformat": 4,
 "nbformat_minor": 2
}
